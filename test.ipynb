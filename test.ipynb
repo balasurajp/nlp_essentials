{
 "cells": [
  {
   "cell_type": "code",
   "execution_count": 5,
   "metadata": {},
   "outputs": [
    {
     "name": "stdout",
     "output_type": "stream",
     "text": [
      "upstream fastapi {\n",
      "    server 0.0.0.0:8001;\n",
      "    server 0.0.0.0:8002;\n",
      "    server 0.0.0.0:8003;\n",
      "    server 0.0.0.0:8004;\n",
      "}\n",
      "\n",
      "server {\n",
      "    listen 80;\n",
      "    server_name 0.0.0.0;\n",
      "\n",
      "    location / {\n",
      "        proxy_pass http://fastapi;\n",
      "        proxy_set_header Host $host;\n",
      "        proxy_set_header X-Real-IP $remote_addr;\n",
      "    }\n",
      "}\n"
     ]
    }
   ],
   "source": [
    "nginx_server = '''upstream fastapi {\n",
    "{FASTAPI_SERVERS}\n",
    "}\n",
    "\n",
    "server {\n",
    "    listen {DOMAIN_PORT};\n",
    "    server_name {DOMAIN_ADDR};\n",
    "\n",
    "    location / {\n",
    "        proxy_pass http://fastapi;\n",
    "        proxy_set_header Host $host;\n",
    "        proxy_set_header X-Real-IP $remote_addr;\n",
    "    }\n",
    "}'''\n",
    "\n",
    "ports = [8001, 8002, 8003, 8004]\n",
    "fa_servers = \"\\n\".join([f\"    server 0.0.0.0:{port};\" for port in ports])\n",
    "print(nginx_server.\\\n",
    "      replace(\"{FASTAPI_SERVERS}\", fa_servers).\\\n",
    "      replace(\"{DOMAIN_ADDR}\", \"0.0.0.0\").\\\n",
    "      replace(\"{DOMAIN_PORT}\", \"80\")\n",
    ")"
   ]
  },
  {
   "cell_type": "code",
   "execution_count": null,
   "metadata": {},
   "outputs": [],
   "source": []
  }
 ],
 "metadata": {
  "kernelspec": {
   "display_name": "llms",
   "language": "python",
   "name": "python3"
  },
  "language_info": {
   "codemirror_mode": {
    "name": "ipython",
    "version": 3
   },
   "file_extension": ".py",
   "mimetype": "text/x-python",
   "name": "python",
   "nbconvert_exporter": "python",
   "pygments_lexer": "ipython3",
   "version": "3.9.16"
  },
  "orig_nbformat": 4
 },
 "nbformat": 4,
 "nbformat_minor": 2
}
